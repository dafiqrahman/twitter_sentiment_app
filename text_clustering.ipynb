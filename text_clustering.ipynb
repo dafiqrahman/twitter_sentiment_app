{
 "cells": [
  {
   "cell_type": "code",
   "execution_count": 65,
   "metadata": {},
   "outputs": [],
   "source": [
    "import pandas as pd\n",
    "import numpy as np\n",
    "import plotly.express as px\n",
    "from sentence_transformers import SentenceTransformer\n",
    "#umap \n",
    "import umap\n",
    "import hdbscan\n",
    "import plotly.graph_objects as go"
   ]
  },
  {
   "cell_type": "code",
   "execution_count": 186,
   "metadata": {},
   "outputs": [
    {
     "data": {
      "text/html": [
       "<div>\n",
       "<style scoped>\n",
       "    .dataframe tbody tr th:only-of-type {\n",
       "        vertical-align: middle;\n",
       "    }\n",
       "\n",
       "    .dataframe tbody tr th {\n",
       "        vertical-align: top;\n",
       "    }\n",
       "\n",
       "    .dataframe thead th {\n",
       "        text-align: right;\n",
       "    }\n",
       "</style>\n",
       "<table border=\"1\" class=\"dataframe\">\n",
       "  <thead>\n",
       "    <tr style=\"text-align: right;\">\n",
       "      <th></th>\n",
       "      <th>content</th>\n",
       "      <th>sentiment</th>\n",
       "    </tr>\n",
       "  </thead>\n",
       "  <tbody>\n",
       "    <tr>\n",
       "      <th>0</th>\n",
       "      <td>tolong kalo mau maintenance jangan jam segini,...</td>\n",
       "      <td>negatif</td>\n",
       "    </tr>\n",
       "    <tr>\n",
       "      <th>1</th>\n",
       "      <td>Min bpjs lagi ga bisa ya skrng</td>\n",
       "      <td>negatif</td>\n",
       "    </tr>\n",
       "    <tr>\n",
       "      <th>2</th>\n",
       "      <td>min tolong cek DM ya</td>\n",
       "      <td>netral</td>\n",
       "    </tr>\n",
       "    <tr>\n",
       "      <th>3</th>\n",
       "      <td>check dm min.</td>\n",
       "      <td>netral</td>\n",
       "    </tr>\n",
       "    <tr>\n",
       "      <th>4</th>\n",
       "      <td>Saat melakukan pemidahan faskes, apa bisa lang...</td>\n",
       "      <td>netral</td>\n",
       "    </tr>\n",
       "  </tbody>\n",
       "</table>\n",
       "</div>"
      ],
      "text/plain": [
       "                                             content sentiment\n",
       "0  tolong kalo mau maintenance jangan jam segini,...   negatif\n",
       "1                     Min bpjs lagi ga bisa ya skrng   negatif\n",
       "2                               min tolong cek DM ya    netral\n",
       "3                                      check dm min.    netral\n",
       "4  Saat melakukan pemidahan faskes, apa bisa lang...    netral"
      ]
     },
     "execution_count": 186,
     "metadata": {},
     "output_type": "execute_result"
    }
   ],
   "source": [
    "#read the data\n",
    "df = pd.read_csv(\"data.csv\")\n",
    "df.head()"
   ]
  },
  {
   "cell_type": "code",
   "execution_count": 14,
   "metadata": {},
   "outputs": [],
   "source": [
    "df_pos = df[df['sentiment'] == 'positif']\n",
    "df_neg = df[df['sentiment'] == 'negatif']\n",
    "df_neu = df[df['sentiment'] == 'netral'] "
   ]
  },
  {
   "attachments": {},
   "cell_type": "markdown",
   "metadata": {},
   "source": [
    "### embedding model"
   ]
  },
  {
   "cell_type": "code",
   "execution_count": 169,
   "metadata": {},
   "outputs": [],
   "source": [
    "embedding_model = SentenceTransformer(\"firqaaa/indo-sentence-bert-base\")"
   ]
  },
  {
   "cell_type": "code",
   "execution_count": 170,
   "metadata": {},
   "outputs": [],
   "source": [
    "embedding_model.save(\"sentence_bert\")"
   ]
  },
  {
   "cell_type": "code",
   "execution_count": 29,
   "metadata": {},
   "outputs": [
    {
     "name": "stderr",
     "output_type": "stream",
     "text": [
      "Batches: 100%|██████████| 3/3 [00:08<00:00,  2.70s/it]\n"
     ]
    }
   ],
   "source": [
    "neu_text_embed =embedding_model.encode(df_neu['content'].values.tolist(), show_progress_bar=True)"
   ]
  },
  {
   "cell_type": "markdown",
   "metadata": {},
   "source": [
    "### UMAP"
   ]
  },
  {
   "cell_type": "code",
   "execution_count": 32,
   "metadata": {},
   "outputs": [],
   "source": [
    "umap_model = umap.UMAP(n_neighbors=5, min_dist=0.3, metric='cosine') "
   ]
  },
  {
   "cell_type": "markdown",
   "metadata": {},
   "source": [
    "### Functions to embed text and plot the embeddings\n"
   ]
  },
  {
   "cell_type": "code",
   "execution_count": 188,
   "metadata": {},
   "outputs": [],
   "source": [
    "def plot_text(df,kelas,embedding_model):\n",
    "    df = df[df.sentiment == kelas]\n",
    "    data = embedding_model.encode(df.values.tolist())\n",
    "    umap_model = umap.UMAP(n_neighbors=min(df.shape[0],5),random_state = 42) \n",
    "    umap_data = umap_model.fit_transform(data)\n",
    "    clusterer = hdbscan.HDBSCAN(min_cluster_size=2)\n",
    "    clusterer.fit(umap_data)\n",
    "\n",
    "    labels = ['cluster ' + str(i) for i in clusterer.labels_]\n",
    "    text = df[\"content\"].str.wrap(50).apply(lambda x: x.replace('\\n', '<br>'))\n",
    "    \n",
    "    fig = px.scatter(x=umap_data[:,0], y=umap_data[:,1],color = clusterer.labels_)\n",
    "    # remove legend\n",
    "    fig = px.scatter(x=umap_data[:,0], y=umap_data[:,1],color = labels,text = text)\n",
    "    #set text color \n",
    "    fig.update_traces(textfont_color='rgba(0,0,0,0)',marker_size = 8)\n",
    "    # remove legend\n",
    "    fig.update_layout(showlegend=False)\n",
    "    # set legend title to cluster\n",
    "    return labels,fig"
   ]
  },
  {
   "cell_type": "code",
   "execution_count": 185,
   "metadata": {},
   "outputs": [
    {
     "data": {
      "text/html": [
       "<div>\n",
       "<style scoped>\n",
       "    .dataframe tbody tr th:only-of-type {\n",
       "        vertical-align: middle;\n",
       "    }\n",
       "\n",
       "    .dataframe tbody tr th {\n",
       "        vertical-align: top;\n",
       "    }\n",
       "\n",
       "    .dataframe thead th {\n",
       "        text-align: right;\n",
       "    }\n",
       "</style>\n",
       "<table border=\"1\" class=\"dataframe\">\n",
       "  <thead>\n",
       "    <tr style=\"text-align: right;\">\n",
       "      <th></th>\n",
       "      <th>content</th>\n",
       "      <th>sentiment</th>\n",
       "    </tr>\n",
       "  </thead>\n",
       "  <tbody>\n",
       "  </tbody>\n",
       "</table>\n",
       "</div>"
      ],
      "text/plain": [
       "Empty DataFrame\n",
       "Columns: [content, sentiment]\n",
       "Index: []"
      ]
     },
     "execution_count": 185,
     "metadata": {},
     "output_type": "execute_result"
    }
   ],
   "source": [
    "df = df[df.sentiment == \"netral\"]\n",
    "df"
   ]
  },
  {
   "cell_type": "code",
   "execution_count": 179,
   "metadata": {},
   "outputs": [],
   "source": [
    "data = embedding_model.encode(df.values.tolist())"
   ]
  },
  {
   "cell_type": "code",
   "execution_count": 184,
   "metadata": {},
   "outputs": [
    {
     "data": {
      "text/plain": [
       "2"
      ]
     },
     "execution_count": 184,
     "metadata": {},
     "output_type": "execute_result"
    }
   ],
   "source": [
    "min(df.shape[0]-1,5)"
   ]
  },
  {
   "cell_type": "code",
   "execution_count": 183,
   "metadata": {},
   "outputs": [
    {
     "name": "stderr",
     "output_type": "stream",
     "text": [
      "e:\\Anaconda\\envs\\sentiment_app\\lib\\site-packages\\scipy\\sparse\\linalg\\_eigen\\arpack\\arpack.py:1592: RuntimeWarning:\n",
      "\n",
      "k >= N for N * N square matrix. Attempting to use scipy.linalg.eigh instead.\n",
      "\n"
     ]
    },
    {
     "ename": "TypeError",
     "evalue": "Cannot use scipy.linalg.eigh for sparse A with k >= N. Use scipy.linalg.eigh(A.toarray()) or reduce k.",
     "output_type": "error",
     "traceback": [
      "\u001b[1;31m---------------------------------------------------------------------------\u001b[0m",
      "\u001b[1;31mTypeError\u001b[0m                                 Traceback (most recent call last)",
      "Cell \u001b[1;32mIn[183], line 2\u001b[0m\n\u001b[0;32m      1\u001b[0m umap_model \u001b[39m=\u001b[39m umap\u001b[39m.\u001b[39mUMAP(n_neighbors\u001b[39m=\u001b[39m\u001b[39mmin\u001b[39m(df\u001b[39m.\u001b[39mshape[\u001b[39m0\u001b[39m]\u001b[39m-\u001b[39m\u001b[39m1\u001b[39m,\u001b[39m5\u001b[39m),random_state \u001b[39m=\u001b[39m \u001b[39m42\u001b[39m) \n\u001b[1;32m----> 2\u001b[0m umap_data \u001b[39m=\u001b[39m umap_model\u001b[39m.\u001b[39;49mfit_transform(data)\n",
      "File \u001b[1;32m~\\AppData\\Roaming\\Python\\Python310\\site-packages\\umap\\umap_.py:2772\u001b[0m, in \u001b[0;36mUMAP.fit_transform\u001b[1;34m(self, X, y)\u001b[0m\n\u001b[0;32m   2742\u001b[0m \u001b[39mdef\u001b[39;00m \u001b[39mfit_transform\u001b[39m(\u001b[39mself\u001b[39m, X, y\u001b[39m=\u001b[39m\u001b[39mNone\u001b[39;00m):\n\u001b[0;32m   2743\u001b[0m     \u001b[39m\"\"\"Fit X into an embedded space and return that transformed\u001b[39;00m\n\u001b[0;32m   2744\u001b[0m \u001b[39m    output.\u001b[39;00m\n\u001b[0;32m   2745\u001b[0m \n\u001b[1;32m   (...)\u001b[0m\n\u001b[0;32m   2770\u001b[0m \u001b[39m        Local radii of data points in the embedding (log-transformed).\u001b[39;00m\n\u001b[0;32m   2771\u001b[0m \u001b[39m    \"\"\"\u001b[39;00m\n\u001b[1;32m-> 2772\u001b[0m     \u001b[39mself\u001b[39;49m\u001b[39m.\u001b[39;49mfit(X, y)\n\u001b[0;32m   2773\u001b[0m     \u001b[39mif\u001b[39;00m \u001b[39mself\u001b[39m\u001b[39m.\u001b[39mtransform_mode \u001b[39m==\u001b[39m \u001b[39m\"\u001b[39m\u001b[39membedding\u001b[39m\u001b[39m\"\u001b[39m:\n\u001b[0;32m   2774\u001b[0m         \u001b[39mif\u001b[39;00m \u001b[39mself\u001b[39m\u001b[39m.\u001b[39moutput_dens:\n",
      "File \u001b[1;32m~\\AppData\\Roaming\\Python\\Python310\\site-packages\\umap\\umap_.py:2684\u001b[0m, in \u001b[0;36mUMAP.fit\u001b[1;34m(self, X, y)\u001b[0m\n\u001b[0;32m   2681\u001b[0m     \u001b[39mprint\u001b[39m(ts(), \u001b[39m\"\u001b[39m\u001b[39mConstruct embedding\u001b[39m\u001b[39m\"\u001b[39m)\n\u001b[0;32m   2683\u001b[0m \u001b[39mif\u001b[39;00m \u001b[39mself\u001b[39m\u001b[39m.\u001b[39mtransform_mode \u001b[39m==\u001b[39m \u001b[39m\"\u001b[39m\u001b[39membedding\u001b[39m\u001b[39m\"\u001b[39m:\n\u001b[1;32m-> 2684\u001b[0m     \u001b[39mself\u001b[39m\u001b[39m.\u001b[39membedding_, aux_data \u001b[39m=\u001b[39m \u001b[39mself\u001b[39;49m\u001b[39m.\u001b[39;49m_fit_embed_data(\n\u001b[0;32m   2685\u001b[0m         \u001b[39mself\u001b[39;49m\u001b[39m.\u001b[39;49m_raw_data[index],\n\u001b[0;32m   2686\u001b[0m         \u001b[39mself\u001b[39;49m\u001b[39m.\u001b[39;49mn_epochs,\n\u001b[0;32m   2687\u001b[0m         init,\n\u001b[0;32m   2688\u001b[0m         random_state,  \u001b[39m# JH why raw data?\u001b[39;49;00m\n\u001b[0;32m   2689\u001b[0m     )\n\u001b[0;32m   2690\u001b[0m     \u001b[39m# Assign any points that are fully disconnected from our manifold(s) to have embedding\u001b[39;00m\n\u001b[0;32m   2691\u001b[0m     \u001b[39m# coordinates of np.nan.  These will be filtered by our plotting functions automatically.\u001b[39;00m\n\u001b[0;32m   2692\u001b[0m     \u001b[39m# They also prevent users from being deceived a distance query to one of these points.\u001b[39;00m\n\u001b[0;32m   2693\u001b[0m     \u001b[39m# Might be worth moving this into simplicial_set_embedding or _fit_embed_data\u001b[39;00m\n\u001b[0;32m   2694\u001b[0m     disconnected_vertices \u001b[39m=\u001b[39m np\u001b[39m.\u001b[39marray(\u001b[39mself\u001b[39m\u001b[39m.\u001b[39mgraph_\u001b[39m.\u001b[39msum(axis\u001b[39m=\u001b[39m\u001b[39m1\u001b[39m))\u001b[39m.\u001b[39mflatten() \u001b[39m==\u001b[39m \u001b[39m0\u001b[39m\n",
      "File \u001b[1;32m~\\AppData\\Roaming\\Python\\Python310\\site-packages\\umap\\umap_.py:2717\u001b[0m, in \u001b[0;36mUMAP._fit_embed_data\u001b[1;34m(self, X, n_epochs, init, random_state)\u001b[0m\n\u001b[0;32m   2713\u001b[0m \u001b[39mdef\u001b[39;00m \u001b[39m_fit_embed_data\u001b[39m(\u001b[39mself\u001b[39m, X, n_epochs, init, random_state):\n\u001b[0;32m   2714\u001b[0m     \u001b[39m\"\"\"A method wrapper for simplicial_set_embedding that can be\u001b[39;00m\n\u001b[0;32m   2715\u001b[0m \u001b[39m    replaced by subclasses.\u001b[39;00m\n\u001b[0;32m   2716\u001b[0m \u001b[39m    \"\"\"\u001b[39;00m\n\u001b[1;32m-> 2717\u001b[0m     \u001b[39mreturn\u001b[39;00m simplicial_set_embedding(\n\u001b[0;32m   2718\u001b[0m         X,\n\u001b[0;32m   2719\u001b[0m         \u001b[39mself\u001b[39;49m\u001b[39m.\u001b[39;49mgraph_,\n\u001b[0;32m   2720\u001b[0m         \u001b[39mself\u001b[39;49m\u001b[39m.\u001b[39;49mn_components,\n\u001b[0;32m   2721\u001b[0m         \u001b[39mself\u001b[39;49m\u001b[39m.\u001b[39;49m_initial_alpha,\n\u001b[0;32m   2722\u001b[0m         \u001b[39mself\u001b[39;49m\u001b[39m.\u001b[39;49m_a,\n\u001b[0;32m   2723\u001b[0m         \u001b[39mself\u001b[39;49m\u001b[39m.\u001b[39;49m_b,\n\u001b[0;32m   2724\u001b[0m         \u001b[39mself\u001b[39;49m\u001b[39m.\u001b[39;49mrepulsion_strength,\n\u001b[0;32m   2725\u001b[0m         \u001b[39mself\u001b[39;49m\u001b[39m.\u001b[39;49mnegative_sample_rate,\n\u001b[0;32m   2726\u001b[0m         n_epochs,\n\u001b[0;32m   2727\u001b[0m         init,\n\u001b[0;32m   2728\u001b[0m         random_state,\n\u001b[0;32m   2729\u001b[0m         \u001b[39mself\u001b[39;49m\u001b[39m.\u001b[39;49m_input_distance_func,\n\u001b[0;32m   2730\u001b[0m         \u001b[39mself\u001b[39;49m\u001b[39m.\u001b[39;49m_metric_kwds,\n\u001b[0;32m   2731\u001b[0m         \u001b[39mself\u001b[39;49m\u001b[39m.\u001b[39;49mdensmap,\n\u001b[0;32m   2732\u001b[0m         \u001b[39mself\u001b[39;49m\u001b[39m.\u001b[39;49m_densmap_kwds,\n\u001b[0;32m   2733\u001b[0m         \u001b[39mself\u001b[39;49m\u001b[39m.\u001b[39;49moutput_dens,\n\u001b[0;32m   2734\u001b[0m         \u001b[39mself\u001b[39;49m\u001b[39m.\u001b[39;49m_output_distance_func,\n\u001b[0;32m   2735\u001b[0m         \u001b[39mself\u001b[39;49m\u001b[39m.\u001b[39;49m_output_metric_kwds,\n\u001b[0;32m   2736\u001b[0m         \u001b[39mself\u001b[39;49m\u001b[39m.\u001b[39;49moutput_metric \u001b[39min\u001b[39;49;00m (\u001b[39m\"\u001b[39;49m\u001b[39meuclidean\u001b[39;49m\u001b[39m\"\u001b[39;49m, \u001b[39m\"\u001b[39;49m\u001b[39ml2\u001b[39;49m\u001b[39m\"\u001b[39;49m),\n\u001b[0;32m   2737\u001b[0m         \u001b[39mself\u001b[39;49m\u001b[39m.\u001b[39;49mrandom_state \u001b[39mis\u001b[39;49;00m \u001b[39mNone\u001b[39;49;00m,\n\u001b[0;32m   2738\u001b[0m         \u001b[39mself\u001b[39;49m\u001b[39m.\u001b[39;49mverbose,\n\u001b[0;32m   2739\u001b[0m         tqdm_kwds\u001b[39m=\u001b[39;49m\u001b[39mself\u001b[39;49m\u001b[39m.\u001b[39;49mtqdm_kwds,\n\u001b[0;32m   2740\u001b[0m     )\n",
      "File \u001b[1;32m~\\AppData\\Roaming\\Python\\Python310\\site-packages\\umap\\umap_.py:1078\u001b[0m, in \u001b[0;36msimplicial_set_embedding\u001b[1;34m(data, graph, n_components, initial_alpha, a, b, gamma, negative_sample_rate, n_epochs, init, random_state, metric, metric_kwds, densmap, densmap_kwds, output_dens, output_metric, output_metric_kwds, euclidean_output, parallel, verbose, tqdm_kwds)\u001b[0m\n\u001b[0;32m   1073\u001b[0m     embedding \u001b[39m=\u001b[39m random_state\u001b[39m.\u001b[39muniform(\n\u001b[0;32m   1074\u001b[0m         low\u001b[39m=\u001b[39m\u001b[39m-\u001b[39m\u001b[39m10.0\u001b[39m, high\u001b[39m=\u001b[39m\u001b[39m10.0\u001b[39m, size\u001b[39m=\u001b[39m(graph\u001b[39m.\u001b[39mshape[\u001b[39m0\u001b[39m], n_components)\n\u001b[0;32m   1075\u001b[0m     )\u001b[39m.\u001b[39mastype(np\u001b[39m.\u001b[39mfloat32)\n\u001b[0;32m   1076\u001b[0m \u001b[39melif\u001b[39;00m \u001b[39misinstance\u001b[39m(init, \u001b[39mstr\u001b[39m) \u001b[39mand\u001b[39;00m init \u001b[39m==\u001b[39m \u001b[39m\"\u001b[39m\u001b[39mspectral\u001b[39m\u001b[39m\"\u001b[39m:\n\u001b[0;32m   1077\u001b[0m     \u001b[39m# We add a little noise to avoid local minima for optimization to come\u001b[39;00m\n\u001b[1;32m-> 1078\u001b[0m     initialisation \u001b[39m=\u001b[39m spectral_layout(\n\u001b[0;32m   1079\u001b[0m         data,\n\u001b[0;32m   1080\u001b[0m         graph,\n\u001b[0;32m   1081\u001b[0m         n_components,\n\u001b[0;32m   1082\u001b[0m         random_state,\n\u001b[0;32m   1083\u001b[0m         metric\u001b[39m=\u001b[39;49mmetric,\n\u001b[0;32m   1084\u001b[0m         metric_kwds\u001b[39m=\u001b[39;49mmetric_kwds,\n\u001b[0;32m   1085\u001b[0m     )\n\u001b[0;32m   1086\u001b[0m     expansion \u001b[39m=\u001b[39m \u001b[39m10.0\u001b[39m \u001b[39m/\u001b[39m np\u001b[39m.\u001b[39mabs(initialisation)\u001b[39m.\u001b[39mmax()\n\u001b[0;32m   1087\u001b[0m     embedding \u001b[39m=\u001b[39m (initialisation \u001b[39m*\u001b[39m expansion)\u001b[39m.\u001b[39mastype(\n\u001b[0;32m   1088\u001b[0m         np\u001b[39m.\u001b[39mfloat32\n\u001b[0;32m   1089\u001b[0m     ) \u001b[39m+\u001b[39m random_state\u001b[39m.\u001b[39mnormal(\n\u001b[1;32m   (...)\u001b[0m\n\u001b[0;32m   1092\u001b[0m         np\u001b[39m.\u001b[39mfloat32\n\u001b[0;32m   1093\u001b[0m     )\n",
      "File \u001b[1;32m~\\AppData\\Roaming\\Python\\Python310\\site-packages\\umap\\spectral.py:332\u001b[0m, in \u001b[0;36mspectral_layout\u001b[1;34m(data, graph, dim, random_state, metric, metric_kwds)\u001b[0m\n\u001b[0;32m    330\u001b[0m \u001b[39mtry\u001b[39;00m:\n\u001b[0;32m    331\u001b[0m     \u001b[39mif\u001b[39;00m L\u001b[39m.\u001b[39mshape[\u001b[39m0\u001b[39m] \u001b[39m<\u001b[39m \u001b[39m2000000\u001b[39m:\n\u001b[1;32m--> 332\u001b[0m         eigenvalues, eigenvectors \u001b[39m=\u001b[39m scipy\u001b[39m.\u001b[39;49msparse\u001b[39m.\u001b[39;49mlinalg\u001b[39m.\u001b[39;49meigsh(\n\u001b[0;32m    333\u001b[0m             L,\n\u001b[0;32m    334\u001b[0m             k,\n\u001b[0;32m    335\u001b[0m             which\u001b[39m=\u001b[39;49m\u001b[39m\"\u001b[39;49m\u001b[39mSM\u001b[39;49m\u001b[39m\"\u001b[39;49m,\n\u001b[0;32m    336\u001b[0m             ncv\u001b[39m=\u001b[39;49mnum_lanczos_vectors,\n\u001b[0;32m    337\u001b[0m             tol\u001b[39m=\u001b[39;49m\u001b[39m1e-4\u001b[39;49m,\n\u001b[0;32m    338\u001b[0m             v0\u001b[39m=\u001b[39;49mnp\u001b[39m.\u001b[39;49mones(L\u001b[39m.\u001b[39;49mshape[\u001b[39m0\u001b[39;49m]),\n\u001b[0;32m    339\u001b[0m             maxiter\u001b[39m=\u001b[39;49mgraph\u001b[39m.\u001b[39;49mshape[\u001b[39m0\u001b[39;49m] \u001b[39m*\u001b[39;49m \u001b[39m5\u001b[39;49m,\n\u001b[0;32m    340\u001b[0m         )\n\u001b[0;32m    341\u001b[0m     \u001b[39melse\u001b[39;00m:\n\u001b[0;32m    342\u001b[0m         eigenvalues, eigenvectors \u001b[39m=\u001b[39m scipy\u001b[39m.\u001b[39msparse\u001b[39m.\u001b[39mlinalg\u001b[39m.\u001b[39mlobpcg(\n\u001b[0;32m    343\u001b[0m             L, random_state\u001b[39m.\u001b[39mnormal(size\u001b[39m=\u001b[39m(L\u001b[39m.\u001b[39mshape[\u001b[39m0\u001b[39m], k)), largest\u001b[39m=\u001b[39m\u001b[39mFalse\u001b[39;00m, tol\u001b[39m=\u001b[39m\u001b[39m1e-8\u001b[39m\n\u001b[0;32m    344\u001b[0m         )\n",
      "File \u001b[1;32me:\\Anaconda\\envs\\sentiment_app\\lib\\site-packages\\scipy\\sparse\\linalg\\_eigen\\arpack\\arpack.py:1597\u001b[0m, in \u001b[0;36meigsh\u001b[1;34m(A, k, M, sigma, which, v0, ncv, maxiter, tol, return_eigenvectors, Minv, OPinv, mode)\u001b[0m\n\u001b[0;32m   1592\u001b[0m warnings\u001b[39m.\u001b[39mwarn(\u001b[39m\"\u001b[39m\u001b[39mk >= N for N * N square matrix. \u001b[39m\u001b[39m\"\u001b[39m\n\u001b[0;32m   1593\u001b[0m               \u001b[39m\"\u001b[39m\u001b[39mAttempting to use scipy.linalg.eigh instead.\u001b[39m\u001b[39m\"\u001b[39m,\n\u001b[0;32m   1594\u001b[0m               \u001b[39mRuntimeWarning\u001b[39;00m)\n\u001b[0;32m   1596\u001b[0m \u001b[39mif\u001b[39;00m issparse(A):\n\u001b[1;32m-> 1597\u001b[0m     \u001b[39mraise\u001b[39;00m \u001b[39mTypeError\u001b[39;00m(\u001b[39m\"\u001b[39m\u001b[39mCannot use scipy.linalg.eigh for sparse A with \u001b[39m\u001b[39m\"\u001b[39m\n\u001b[0;32m   1598\u001b[0m                     \u001b[39m\"\u001b[39m\u001b[39mk >= N. Use scipy.linalg.eigh(A.toarray()) or\u001b[39m\u001b[39m\"\u001b[39m\n\u001b[0;32m   1599\u001b[0m                     \u001b[39m\"\u001b[39m\u001b[39m reduce k.\u001b[39m\u001b[39m\"\u001b[39m)\n\u001b[0;32m   1600\u001b[0m \u001b[39mif\u001b[39;00m \u001b[39misinstance\u001b[39m(A, LinearOperator):\n\u001b[0;32m   1601\u001b[0m     \u001b[39mraise\u001b[39;00m \u001b[39mTypeError\u001b[39;00m(\u001b[39m\"\u001b[39m\u001b[39mCannot use scipy.linalg.eigh for LinearOperator \u001b[39m\u001b[39m\"\u001b[39m\n\u001b[0;32m   1602\u001b[0m                     \u001b[39m\"\u001b[39m\u001b[39mA with k >= N.\u001b[39m\u001b[39m\"\u001b[39m)\n",
      "\u001b[1;31mTypeError\u001b[0m: Cannot use scipy.linalg.eigh for sparse A with k >= N. Use scipy.linalg.eigh(A.toarray()) or reduce k."
     ]
    }
   ],
   "source": [
    "umap_model = umap.UMAP(n_neighbors=min(df.shape[0]-1,5),random_state = 42) \n",
    "umap_data = umap_model.fit_transform(data)"
   ]
  },
  {
   "cell_type": "code",
   "execution_count": 189,
   "metadata": {},
   "outputs": [],
   "source": [
    "labels, fig = plot_text(df,\"netral\",embedding_model)"
   ]
  },
  {
   "cell_type": "code",
   "execution_count": 190,
   "metadata": {},
   "outputs": [
    {
     "data": {
      "application/vnd.plotly.v1+json": {
       "config": {
        "plotlyServerURL": "https://plot.ly"
       },
       "data": [
        {
         "hovertemplate": "color=cluster 1<br>x=%{x}<br>y=%{y}<br>text=%{text}<extra></extra>",
         "legendgroup": "cluster 1",
         "marker": {
          "color": "#636efa",
          "size": 8,
          "symbol": "circle"
         },
         "mode": "markers+text",
         "name": "cluster 1",
         "orientation": "v",
         "showlegend": true,
         "text": [
          "min tolong cek DM ya",
          "Saat melakukan pemidahan faskes, apa bisa langsung<br>digunakan",
          "min tolong cek dm ya",
          "halo min. Aku mau bayar denda pelayanan tapi VA<br>nya invalid terus kenapa ya Sudah melewati tanggal<br>yang ditentukan untuk bisa melakukan pembayaran",
          "minta tolong di bales aja dm nya ya. thank you.",
          "minta tolong cek dm nya ya, thank you.",
          "Min tolong cek Dm ya",
          "Baik..terima kasih",
          "Oh gitu min, soalnya kemarin saya berobat terus<br>diminta kartu fisiknya. But, thank you min untuk<br>infonya :",
          "malam min,mau tnya cara menonaktifkan bpjs mandiri<br>bagaimana ya. Saya mau menambahkan istri saya di<br>bpjs saya..",
          "Berarti kalau non PBI PNS dapat pindah faskes beda<br>provinsi tanpa surat pindah domisili ya Admin",
          "Kalau mau pindah faskes beda provinsi tanpa surat<br>domisili apa bisa",
          "Hallo min, ibu saya cek iuran bpjs di mbanking ada<br>tagihannya sekian ribu, tpi pas chat chika via wa<br>ternyata ibu saya termasuk peserta pbi apbn, kalo<br>begitu jadinya gimana min",
          "minnnn pls tolong cek DM:",
          "Sudah dua kali saya lakukan log out, tapi masih<br>tetap muncul tagihan rehab yang bulan Des 2022",
          "selamat malam min. Saya mau mendaftarkan ayah saya<br>bpjs kesehatan tetapi tidak bisa. Bisa tolong<br>dibantu",
          "hallo min apakah bpjs kesehatan bisa mendapatan<br>alat bantu dengar",
          "berkas apa saja yg harus dibawa Apa boleh<br>diwakilkan",
          "hai min, bpjs PBI APBN mertua saya tidak aktif<br>karena data ganda. Apa yg harus saya lakukan<br>supaya kembali aktif",
          "Bpjs kesehatan saya sudah tdk aktif sejak bulan<br>Juli 2021, saya ingin aktifkan kembali. Berapa<br>tagihan yg saya harus bayar. . dan status saya<br>saat ini bukan lagi penerima upah",
          "min kalo perusahaan ingin menonaktifkan bpjs karna<br>perusahaan mau tutup, ada mekanismenya kah",
          "Langsung datang aja ke FKTP terdekat tanpa<br>pengantar gitu kah",
          "Berarti ke faskes terkait dulu ya Baru ke apk Baik<br>terimakasih",
          "min mau tanya, kalo udah resign trus bpjs<br>kesehatan masih mau aktif tapi dipindah jadi bayar<br>iuran pribadi ga sama perusahaan lagi caranya<br>gimana ya min",
          "saya sedang hamil dan ingin melahirkan di Solo<br>kota ibu saya. Saya tidak berniat pindah faskes<br>karena sehari-hari saya kerja di Pekalongan dan<br>domisili di sana. Apakah proses melahirkan normal<br>pervaginam di luar kota bisa dicover BPJS<br>Bagaimana prosedurnya",
          "Min tgl 2 Januari kantor BPJS apa buka",
          "kalo ubah fasilitas dr kelas 1 ke kelas 2, apa aja<br>yaa yg berubah Apakah obat2 yg dikasih jg akan<br>berubah",
          "Jadi gini kak Saya dapat tagihan dari BPJS depok .<br>Tp ditahun 2019 saya ngurusnya di BPJS bali .<br>Sebenernya itu terintegrasi keseluruh Indonesia<br>atau engga Saya urus dikantor BPJS mana",
          "3 bulan lalu daftat bpjs berhasil dan se sekarang<br>belum saya bayar lupa. Terus ada pembaruan kartu<br>keluarga. Kalo wa pandawa pilih yang mana",
          "selamat pagi min, saya mau tanya kemaren kan<br>bpjskesehatan saya di bayar dari perusahaan, tapi<br>5 bln karna udh gk kerja jadi kan otomatis mati.<br>Jika saya alihkan ke pembayaran pribadi apakah<br>langsung aktif atau nunggu berapa hari baru aktif.",
          "cara PPU menjadi iuran mandiri langkahnya<br>bagaimana",
          "kawan saya ingin berobat menggunakan BPJS sudah<br>mengikuti program rehab, baru mencicil 1x,<br>bagaimana caranya Karena kalau menggunakan<br>fasilitas umum dia tidak mu",
          "min cara liat tgl dan waktu janji temu dokter<br>dimana deh",
          "halo min, bantu dong. Anggota keluarga di jkn<br>mobile ga sesuai sm anggota keluarga dan tanggal<br>lahirnya di Kartu Keluarga. Cara gantinya gmn ya",
          "untuk pergantian jenis kelamin di BPJS harus<br>kemana ya Kalo bisa melalui aplikasi JKN dibagian<br>mana pengaturannya Sudah saya cari, tapi tidak<br>ketemu",
          "min saya ada kendala masalah surat rujukan. Mohon<br>cek DM.",
          "Yang saya maksud cek tagihan kedepan. Bukan yang<br>sudah saya bayar",
          "mau tanya cara cek status kepesertaan... bagaimana",
          "jika penyebrang jalan ketabrak/keserempet<br>kendaraan, prosedur claim BPJSnya gmn apakah tetap<br>harus ada surat kecelakaan dari kepolisian",
          "Bagaimana cara mengganti nomer NIK anak yang tidak<br>sesuai dengan yang ada di Kartu Keluarga",
          "RS mana yg masih menerima rujukan BPJS di wilayah<br>Tangerang Selatan Saya baru saja ditolak oleh<br>salah satu RS yg dirujuk.",
          "min mohon balas dm",
          "Dikartu saya terdapat bacaan non aktif diakhir<br>bulan.",
          "hallo min, bales dm ya",
          "halo bisa dm ga min ada keluhan pebgen donload<br>kartu kis digitas tapi disuruh perbaharui alamat<br>email",
          "cara saya cek nomor bpjs gimana ya",
          "kartu BPJS nya juga harus dibawa karna sudah<br>hilang",
          "Halo min mau tanya dulu saya pakai KIS, lalu saya<br>bekerja dan diganti dari KIS jadi BPJS Perusahaan<br>ppu ya namanya Nah saat ini saya sudah resign min<br>dan bpjs saya statusnya Non Aktif diakhir bulan<br>itu apakah bisa diubah ke KIS lagi tidak yaa min",
          "Sudak kakak sudah saya lakukan sejak 2019 . Ini<br>akhir tahun 2022 . Saya dapat email tagihan atas<br>nama bapak saya yg sudah meninggal.",
          "yang datang kesana harus yang punya BPJS / bisa<br>diwakili",
          "kalau melalui online bisa ga ya",
          "Admin mau tanya obat Simvastatin 20mg, apakah<br>tidak dicover oleh BPJS Karena sy di resep oleh<br>dokter hrs minum obat itu setiap hari. Tapi oleh<br>RS Harapan Jayakarta saya diminta harus beli<br>sendiri ke apotek tiap bulan. Mohon penjelasan",
          "selamat siang, saya mau complain ko saya sudah<br>cancel autodebet via BCA. namun masih ke potong<br>juga tiba tiba dengan jumblah yang besar. kartu<br>bpjs yang ke autodebet sudah hilang, bisa ga ya<br>dana nya dikembalikan",
          "Min aku lupa email dan sandi dan nomer handphone<br>sudh terblokir gimana cara ganti untuk login ke<br>jkn nya ya",
          "di perusahaan statusnya sudah berhasil terdaftar",
          "apakah benar peraturan dari BPJS pasien BPJS hanya<br>bisa rawat inap di ruang ICU suatu RS maksimal<br>hanya 4 hari",
          "Ibu saya sudah 4 hari menunggu konfirmasi ruang<br>ICU di RS di Medan rujukan dari RS di Berastagi.<br>Keadaaannya sudah drop tapi sai sekarang kata<br>pihak rumah sakit asal blm ada konfirmasi,<br>sementara pasien sudah kritis.",
          "kalo minta rujukan poli sama tapi diagnosisnya<br>beda itu bisa ga",
          "haloo min, tolong cek dm yaa"
         ],
         "textfont": {
          "color": "rgba(0,0,0,0)"
         },
         "type": "scatter",
         "x": [
          5.568301200866699,
          6.334414958953857,
          5.372081756591797,
          6.619587421417236,
          5.385069370269775,
          5.267914295196533,
          5.370508193969727,
          5.90659761428833,
          8.236266136169434,
          8.430362701416016,
          6.829474925994873,
          6.754269599914551,
          8.329591751098633,
          5.680347442626953,
          7.080282211303711,
          8.48104190826416,
          5.3907365798950195,
          4.999072551727295,
          7.918185710906982,
          7.099654197692871,
          5.297355651855469,
          6.4668169021606445,
          6.536942958831787,
          5.5356903076171875,
          8.27172565460205,
          6.240948677062988,
          6.389348030090332,
          7.558644771575928,
          7.391741752624512,
          6.627529621124268,
          4.943062782287598,
          7.035460472106934,
          6.51197624206543,
          7.711452484130859,
          7.899794578552246,
          5.1529316902160645,
          6.829046249389648,
          5.710760593414307,
          5.494929313659668,
          7.77964973449707,
          7.354949951171875,
          6.010253429412842,
          7.422929286956787,
          5.293333053588867,
          7.4382123947143555,
          6.182451248168945,
          5.798735618591309,
          6.460597515106201,
          8.032729148864746,
          5.109847545623779,
          6.938676834106445,
          6.886751174926758,
          7.63532018661499,
          7.499989986419678,
          5.116520881652832,
          6.630241870880127,
          7.224254608154297,
          6.71062707901001,
          5.4415364265441895
         ],
         "xaxis": "x",
         "y": [
          5.059201717376709,
          0.2847343385219574,
          4.929152011871338,
          2.697502374649048,
          5.712888240814209,
          5.122087001800537,
          4.813138484954834,
          5.371978282928467,
          1.518234133720398,
          1.9364649057388306,
          0.06801126152276993,
          0.20200105011463165,
          2.402677536010742,
          4.86775541305542,
          2.940162420272827,
          1.7562415599822998,
          2.6204416751861572,
          4.065910339355469,
          3.080911159515381,
          2.480581760406494,
          1.8187141418457031,
          5.195585250854492,
          0.02013113722205162,
          2.211790084838867,
          2.206173896789551,
          1.5939552783966064,
          0.6137988567352295,
          2.3316280841827393,
          2.7004647254943848,
          2.1659698486328125,
          2.6329500675201416,
          2.036726713180542,
          1.2945071458816528,
          4.38962984085083,
          2.0902323722839355,
          4.5613694190979,
          2.9395599365234375,
          3.549863815307617,
          1.9021615982055664,
          4.272822856903076,
          2.038536548614502,
          5.246036529541016,
          3.1378135681152344,
          5.791043281555176,
          4.414036750793457,
          3.087186574935913,
          2.322478771209717,
          2.3159425258636475,
          2.565979242324829,
          2.8043887615203857,
          4.890312671661377,
          1.24661386013031,
          3.3516392707824707,
          3.8640975952148438,
          2.187335252761841,
          1.8016529083251953,
          1.801895260810852,
          0.8623104691505432,
          5.223931789398193
         ],
         "yaxis": "y"
        },
        {
         "hovertemplate": "color=cluster 0<br>x=%{x}<br>y=%{y}<br>text=%{text}<extra></extra>",
         "legendgroup": "cluster 0",
         "marker": {
          "color": "#EF553B",
          "size": 8,
          "symbol": "circle"
         },
         "mode": "markers+text",
         "name": "cluster 0",
         "orientation": "v",
         "showlegend": true,
         "text": [
          "check dm min.",
          "cek DM min",
          "cek dmn ya min",
          "Free, atau dikenakan biaya min",
          "cek dm min",
          "Min",
          "cek DM lagi ya Kak",
          "Cek lg ya kak",
          "Cek DM lagi ya",
          "cek DM.",
          "cek dm ya",
          "cek dm",
          "cek dm dong min"
         ],
         "textfont": {
          "color": "rgba(0,0,0,0)"
         },
         "type": "scatter",
         "x": [
          2.206637144088745,
          2.3163485527038574,
          2.496699333190918,
          2.4063968658447266,
          2.4020731449127197,
          2.106398582458496,
          2.786961793899536,
          2.7230825424194336,
          2.8261494636535645,
          1.9656739234924316,
          2.3365232944488525,
          2.035104513168335,
          2.745415210723877
         ],
         "xaxis": "x",
         "y": [
          8.037503242492676,
          8.487159729003906,
          8.936124801635742,
          7.521528244018555,
          8.498613357543945,
          8.040504455566406,
          9.412331581115723,
          9.403949737548828,
          9.286471366882324,
          8.818573951721191,
          8.958514213562012,
          8.696793556213379,
          8.944964408874512
         ],
         "yaxis": "y"
        }
       ],
       "layout": {
        "legend": {
         "title": {
          "text": "color"
         },
         "tracegroupgap": 0
        },
        "margin": {
         "t": 60
        },
        "showlegend": false,
        "template": {
         "data": {
          "bar": [
           {
            "error_x": {
             "color": "#2a3f5f"
            },
            "error_y": {
             "color": "#2a3f5f"
            },
            "marker": {
             "line": {
              "color": "#E5ECF6",
              "width": 0.5
             },
             "pattern": {
              "fillmode": "overlay",
              "size": 10,
              "solidity": 0.2
             }
            },
            "type": "bar"
           }
          ],
          "barpolar": [
           {
            "marker": {
             "line": {
              "color": "#E5ECF6",
              "width": 0.5
             },
             "pattern": {
              "fillmode": "overlay",
              "size": 10,
              "solidity": 0.2
             }
            },
            "type": "barpolar"
           }
          ],
          "carpet": [
           {
            "aaxis": {
             "endlinecolor": "#2a3f5f",
             "gridcolor": "white",
             "linecolor": "white",
             "minorgridcolor": "white",
             "startlinecolor": "#2a3f5f"
            },
            "baxis": {
             "endlinecolor": "#2a3f5f",
             "gridcolor": "white",
             "linecolor": "white",
             "minorgridcolor": "white",
             "startlinecolor": "#2a3f5f"
            },
            "type": "carpet"
           }
          ],
          "choropleth": [
           {
            "colorbar": {
             "outlinewidth": 0,
             "ticks": ""
            },
            "type": "choropleth"
           }
          ],
          "contour": [
           {
            "colorbar": {
             "outlinewidth": 0,
             "ticks": ""
            },
            "colorscale": [
             [
              0,
              "#0d0887"
             ],
             [
              0.1111111111111111,
              "#46039f"
             ],
             [
              0.2222222222222222,
              "#7201a8"
             ],
             [
              0.3333333333333333,
              "#9c179e"
             ],
             [
              0.4444444444444444,
              "#bd3786"
             ],
             [
              0.5555555555555556,
              "#d8576b"
             ],
             [
              0.6666666666666666,
              "#ed7953"
             ],
             [
              0.7777777777777778,
              "#fb9f3a"
             ],
             [
              0.8888888888888888,
              "#fdca26"
             ],
             [
              1,
              "#f0f921"
             ]
            ],
            "type": "contour"
           }
          ],
          "contourcarpet": [
           {
            "colorbar": {
             "outlinewidth": 0,
             "ticks": ""
            },
            "type": "contourcarpet"
           }
          ],
          "heatmap": [
           {
            "colorbar": {
             "outlinewidth": 0,
             "ticks": ""
            },
            "colorscale": [
             [
              0,
              "#0d0887"
             ],
             [
              0.1111111111111111,
              "#46039f"
             ],
             [
              0.2222222222222222,
              "#7201a8"
             ],
             [
              0.3333333333333333,
              "#9c179e"
             ],
             [
              0.4444444444444444,
              "#bd3786"
             ],
             [
              0.5555555555555556,
              "#d8576b"
             ],
             [
              0.6666666666666666,
              "#ed7953"
             ],
             [
              0.7777777777777778,
              "#fb9f3a"
             ],
             [
              0.8888888888888888,
              "#fdca26"
             ],
             [
              1,
              "#f0f921"
             ]
            ],
            "type": "heatmap"
           }
          ],
          "heatmapgl": [
           {
            "colorbar": {
             "outlinewidth": 0,
             "ticks": ""
            },
            "colorscale": [
             [
              0,
              "#0d0887"
             ],
             [
              0.1111111111111111,
              "#46039f"
             ],
             [
              0.2222222222222222,
              "#7201a8"
             ],
             [
              0.3333333333333333,
              "#9c179e"
             ],
             [
              0.4444444444444444,
              "#bd3786"
             ],
             [
              0.5555555555555556,
              "#d8576b"
             ],
             [
              0.6666666666666666,
              "#ed7953"
             ],
             [
              0.7777777777777778,
              "#fb9f3a"
             ],
             [
              0.8888888888888888,
              "#fdca26"
             ],
             [
              1,
              "#f0f921"
             ]
            ],
            "type": "heatmapgl"
           }
          ],
          "histogram": [
           {
            "marker": {
             "pattern": {
              "fillmode": "overlay",
              "size": 10,
              "solidity": 0.2
             }
            },
            "type": "histogram"
           }
          ],
          "histogram2d": [
           {
            "colorbar": {
             "outlinewidth": 0,
             "ticks": ""
            },
            "colorscale": [
             [
              0,
              "#0d0887"
             ],
             [
              0.1111111111111111,
              "#46039f"
             ],
             [
              0.2222222222222222,
              "#7201a8"
             ],
             [
              0.3333333333333333,
              "#9c179e"
             ],
             [
              0.4444444444444444,
              "#bd3786"
             ],
             [
              0.5555555555555556,
              "#d8576b"
             ],
             [
              0.6666666666666666,
              "#ed7953"
             ],
             [
              0.7777777777777778,
              "#fb9f3a"
             ],
             [
              0.8888888888888888,
              "#fdca26"
             ],
             [
              1,
              "#f0f921"
             ]
            ],
            "type": "histogram2d"
           }
          ],
          "histogram2dcontour": [
           {
            "colorbar": {
             "outlinewidth": 0,
             "ticks": ""
            },
            "colorscale": [
             [
              0,
              "#0d0887"
             ],
             [
              0.1111111111111111,
              "#46039f"
             ],
             [
              0.2222222222222222,
              "#7201a8"
             ],
             [
              0.3333333333333333,
              "#9c179e"
             ],
             [
              0.4444444444444444,
              "#bd3786"
             ],
             [
              0.5555555555555556,
              "#d8576b"
             ],
             [
              0.6666666666666666,
              "#ed7953"
             ],
             [
              0.7777777777777778,
              "#fb9f3a"
             ],
             [
              0.8888888888888888,
              "#fdca26"
             ],
             [
              1,
              "#f0f921"
             ]
            ],
            "type": "histogram2dcontour"
           }
          ],
          "mesh3d": [
           {
            "colorbar": {
             "outlinewidth": 0,
             "ticks": ""
            },
            "type": "mesh3d"
           }
          ],
          "parcoords": [
           {
            "line": {
             "colorbar": {
              "outlinewidth": 0,
              "ticks": ""
             }
            },
            "type": "parcoords"
           }
          ],
          "pie": [
           {
            "automargin": true,
            "type": "pie"
           }
          ],
          "scatter": [
           {
            "fillpattern": {
             "fillmode": "overlay",
             "size": 10,
             "solidity": 0.2
            },
            "type": "scatter"
           }
          ],
          "scatter3d": [
           {
            "line": {
             "colorbar": {
              "outlinewidth": 0,
              "ticks": ""
             }
            },
            "marker": {
             "colorbar": {
              "outlinewidth": 0,
              "ticks": ""
             }
            },
            "type": "scatter3d"
           }
          ],
          "scattercarpet": [
           {
            "marker": {
             "colorbar": {
              "outlinewidth": 0,
              "ticks": ""
             }
            },
            "type": "scattercarpet"
           }
          ],
          "scattergeo": [
           {
            "marker": {
             "colorbar": {
              "outlinewidth": 0,
              "ticks": ""
             }
            },
            "type": "scattergeo"
           }
          ],
          "scattergl": [
           {
            "marker": {
             "colorbar": {
              "outlinewidth": 0,
              "ticks": ""
             }
            },
            "type": "scattergl"
           }
          ],
          "scattermapbox": [
           {
            "marker": {
             "colorbar": {
              "outlinewidth": 0,
              "ticks": ""
             }
            },
            "type": "scattermapbox"
           }
          ],
          "scatterpolar": [
           {
            "marker": {
             "colorbar": {
              "outlinewidth": 0,
              "ticks": ""
             }
            },
            "type": "scatterpolar"
           }
          ],
          "scatterpolargl": [
           {
            "marker": {
             "colorbar": {
              "outlinewidth": 0,
              "ticks": ""
             }
            },
            "type": "scatterpolargl"
           }
          ],
          "scatterternary": [
           {
            "marker": {
             "colorbar": {
              "outlinewidth": 0,
              "ticks": ""
             }
            },
            "type": "scatterternary"
           }
          ],
          "surface": [
           {
            "colorbar": {
             "outlinewidth": 0,
             "ticks": ""
            },
            "colorscale": [
             [
              0,
              "#0d0887"
             ],
             [
              0.1111111111111111,
              "#46039f"
             ],
             [
              0.2222222222222222,
              "#7201a8"
             ],
             [
              0.3333333333333333,
              "#9c179e"
             ],
             [
              0.4444444444444444,
              "#bd3786"
             ],
             [
              0.5555555555555556,
              "#d8576b"
             ],
             [
              0.6666666666666666,
              "#ed7953"
             ],
             [
              0.7777777777777778,
              "#fb9f3a"
             ],
             [
              0.8888888888888888,
              "#fdca26"
             ],
             [
              1,
              "#f0f921"
             ]
            ],
            "type": "surface"
           }
          ],
          "table": [
           {
            "cells": {
             "fill": {
              "color": "#EBF0F8"
             },
             "line": {
              "color": "white"
             }
            },
            "header": {
             "fill": {
              "color": "#C8D4E3"
             },
             "line": {
              "color": "white"
             }
            },
            "type": "table"
           }
          ]
         },
         "layout": {
          "annotationdefaults": {
           "arrowcolor": "#2a3f5f",
           "arrowhead": 0,
           "arrowwidth": 1
          },
          "autotypenumbers": "strict",
          "coloraxis": {
           "colorbar": {
            "outlinewidth": 0,
            "ticks": ""
           }
          },
          "colorscale": {
           "diverging": [
            [
             0,
             "#8e0152"
            ],
            [
             0.1,
             "#c51b7d"
            ],
            [
             0.2,
             "#de77ae"
            ],
            [
             0.3,
             "#f1b6da"
            ],
            [
             0.4,
             "#fde0ef"
            ],
            [
             0.5,
             "#f7f7f7"
            ],
            [
             0.6,
             "#e6f5d0"
            ],
            [
             0.7,
             "#b8e186"
            ],
            [
             0.8,
             "#7fbc41"
            ],
            [
             0.9,
             "#4d9221"
            ],
            [
             1,
             "#276419"
            ]
           ],
           "sequential": [
            [
             0,
             "#0d0887"
            ],
            [
             0.1111111111111111,
             "#46039f"
            ],
            [
             0.2222222222222222,
             "#7201a8"
            ],
            [
             0.3333333333333333,
             "#9c179e"
            ],
            [
             0.4444444444444444,
             "#bd3786"
            ],
            [
             0.5555555555555556,
             "#d8576b"
            ],
            [
             0.6666666666666666,
             "#ed7953"
            ],
            [
             0.7777777777777778,
             "#fb9f3a"
            ],
            [
             0.8888888888888888,
             "#fdca26"
            ],
            [
             1,
             "#f0f921"
            ]
           ],
           "sequentialminus": [
            [
             0,
             "#0d0887"
            ],
            [
             0.1111111111111111,
             "#46039f"
            ],
            [
             0.2222222222222222,
             "#7201a8"
            ],
            [
             0.3333333333333333,
             "#9c179e"
            ],
            [
             0.4444444444444444,
             "#bd3786"
            ],
            [
             0.5555555555555556,
             "#d8576b"
            ],
            [
             0.6666666666666666,
             "#ed7953"
            ],
            [
             0.7777777777777778,
             "#fb9f3a"
            ],
            [
             0.8888888888888888,
             "#fdca26"
            ],
            [
             1,
             "#f0f921"
            ]
           ]
          },
          "colorway": [
           "#636efa",
           "#EF553B",
           "#00cc96",
           "#ab63fa",
           "#FFA15A",
           "#19d3f3",
           "#FF6692",
           "#B6E880",
           "#FF97FF",
           "#FECB52"
          ],
          "font": {
           "color": "#2a3f5f"
          },
          "geo": {
           "bgcolor": "white",
           "lakecolor": "white",
           "landcolor": "#E5ECF6",
           "showlakes": true,
           "showland": true,
           "subunitcolor": "white"
          },
          "hoverlabel": {
           "align": "left"
          },
          "hovermode": "closest",
          "mapbox": {
           "style": "light"
          },
          "paper_bgcolor": "white",
          "plot_bgcolor": "#E5ECF6",
          "polar": {
           "angularaxis": {
            "gridcolor": "white",
            "linecolor": "white",
            "ticks": ""
           },
           "bgcolor": "#E5ECF6",
           "radialaxis": {
            "gridcolor": "white",
            "linecolor": "white",
            "ticks": ""
           }
          },
          "scene": {
           "xaxis": {
            "backgroundcolor": "#E5ECF6",
            "gridcolor": "white",
            "gridwidth": 2,
            "linecolor": "white",
            "showbackground": true,
            "ticks": "",
            "zerolinecolor": "white"
           },
           "yaxis": {
            "backgroundcolor": "#E5ECF6",
            "gridcolor": "white",
            "gridwidth": 2,
            "linecolor": "white",
            "showbackground": true,
            "ticks": "",
            "zerolinecolor": "white"
           },
           "zaxis": {
            "backgroundcolor": "#E5ECF6",
            "gridcolor": "white",
            "gridwidth": 2,
            "linecolor": "white",
            "showbackground": true,
            "ticks": "",
            "zerolinecolor": "white"
           }
          },
          "shapedefaults": {
           "line": {
            "color": "#2a3f5f"
           }
          },
          "ternary": {
           "aaxis": {
            "gridcolor": "white",
            "linecolor": "white",
            "ticks": ""
           },
           "baxis": {
            "gridcolor": "white",
            "linecolor": "white",
            "ticks": ""
           },
           "bgcolor": "#E5ECF6",
           "caxis": {
            "gridcolor": "white",
            "linecolor": "white",
            "ticks": ""
           }
          },
          "title": {
           "x": 0.05
          },
          "xaxis": {
           "automargin": true,
           "gridcolor": "white",
           "linecolor": "white",
           "ticks": "",
           "title": {
            "standoff": 15
           },
           "zerolinecolor": "white",
           "zerolinewidth": 2
          },
          "yaxis": {
           "automargin": true,
           "gridcolor": "white",
           "linecolor": "white",
           "ticks": "",
           "title": {
            "standoff": 15
           },
           "zerolinecolor": "white",
           "zerolinewidth": 2
          }
         }
        },
        "xaxis": {
         "anchor": "y",
         "domain": [
          0,
          1
         ],
         "title": {
          "text": "x"
         }
        },
        "yaxis": {
         "anchor": "x",
         "domain": [
          0,
          1
         ],
         "title": {
          "text": "y"
         }
        }
       }
      }
     },
     "metadata": {},
     "output_type": "display_data"
    }
   ],
   "source": [
    "fig.show()"
   ]
  },
  {
   "cell_type": "code",
   "execution_count": 159,
   "metadata": {},
   "outputs": [],
   "source": [
    "def plot_text(df,embedding_model):\n",
    "    data = embedding_model.encode(df.values.tolist())\n",
    "    umap_model = umap.UMAP(n_neighbors=min(len(data),5),random_state = 42) \n",
    "    umap_data = umap_model.fit_transform(data)\n",
    "    clusterer = hdbscan.HDBSCAN(min_cluster_size=3)\n",
    "    clusterer.fit(umap_data)\n",
    "\n",
    "    labels = ['cluster ' + str(i) for i in clusterer.labels_]\n",
    "    text = df.str.wrap(50).apply(lambda x: x.replace('\\n', '<br>'))\n",
    "    \n",
    "    fig = px.scatter(x=umap_data[:,0], y=umap_data[:,1],color = clusterer.labels_)\n",
    "    # remove legend\n",
    "    fig = px.scatter(x=umap_data[:,0], y=umap_data[:,1],color = labels,text = text)\n",
    "    #set text color \n",
    "    fig.update_traces(textfont_color='rgba(0,0,0,0)',marker_size = 8)\n",
    "    # remove legend\n",
    "    fig.update_layout(showlegend=False)\n",
    "    # set legend title to cluster\n",
    "    fig.show()\n",
    "    return labels\n"
   ]
  },
  {
   "cell_type": "code",
   "execution_count": 165,
   "metadata": {},
   "outputs": [
    {
     "data": {
      "application/vnd.plotly.v1+json": {
       "config": {
        "plotlyServerURL": "https://plot.ly"
       },
       "data": [
        {
         "hovertemplate": "color=cluster 1<br>x=%{x}<br>y=%{y}<br>text=%{text}<extra></extra>",
         "legendgroup": "cluster 1",
         "marker": {
          "color": "#636efa",
          "size": 8,
          "symbol": "circle"
         },
         "mode": "markers+text",
         "name": "cluster 1",
         "orientation": "v",
         "showlegend": true,
         "text": [
          "jika penyebrang jalan ketabrak/keserempet<br>kendaraan, prosedur claim BPJSnya gmn apakah tetap<br>harus ada surat kecelakaan dari kepolisian",
          "Bagaimana cara mengganti nomer NIK anak yang tidak<br>sesuai dengan yang ada di Kartu Keluarga",
          "RS mana yg masih menerima rujukan BPJS di wilayah<br>Tangerang Selatan Saya baru saja ditolak oleh<br>salah satu RS yg dirujuk.",
          "Dikartu saya terdapat bacaan non aktif diakhir<br>bulan.",
          "halo bisa dm ga min ada keluhan pebgen donload<br>kartu kis digitas tapi disuruh perbaharui alamat<br>email",
          "cara saya cek nomor bpjs gimana ya",
          "kartu BPJS nya juga harus dibawa karna sudah<br>hilang",
          "Halo min mau tanya dulu saya pakai KIS, lalu saya<br>bekerja dan diganti dari KIS jadi BPJS Perusahaan<br>ppu ya namanya Nah saat ini saya sudah resign min<br>dan bpjs saya statusnya Non Aktif diakhir bulan<br>itu apakah bisa diubah ke KIS lagi tidak yaa min",
          "Sudak kakak sudah saya lakukan sejak 2019 . Ini<br>akhir tahun 2022 . Saya dapat email tagihan atas<br>nama bapak saya yg sudah meninggal.",
          "yang datang kesana harus yang punya BPJS / bisa<br>diwakili",
          "kalau melalui online bisa ga ya",
          "Admin mau tanya obat Simvastatin 20mg, apakah<br>tidak dicover oleh BPJS Karena sy di resep oleh<br>dokter hrs minum obat itu setiap hari. Tapi oleh<br>RS Harapan Jayakarta saya diminta harus beli<br>sendiri ke apotek tiap bulan. Mohon penjelasan",
          "selamat siang, saya mau complain ko saya sudah<br>cancel autodebet via BCA. namun masih ke potong<br>juga tiba tiba dengan jumblah yang besar. kartu<br>bpjs yang ke autodebet sudah hilang, bisa ga ya<br>dana nya dikembalikan",
          "Min aku lupa email dan sandi dan nomer handphone<br>sudh terblokir gimana cara ganti untuk login ke<br>jkn nya ya",
          "di perusahaan statusnya sudah berhasil terdaftar",
          "apakah benar peraturan dari BPJS pasien BPJS hanya<br>bisa rawat inap di ruang ICU suatu RS maksimal<br>hanya 4 hari",
          "Ibu saya sudah 4 hari menunggu konfirmasi ruang<br>ICU di RS di Medan rujukan dari RS di Berastagi.<br>Keadaaannya sudah drop tapi sai sekarang kata<br>pihak rumah sakit asal blm ada konfirmasi,<br>sementara pasien sudah kritis.",
          "kalo minta rujukan poli sama tapi diagnosisnya<br>beda itu bisa ga",
          "selamat siang min, saya mau tanya kemaren kan<br>bpjskesehatan saya di bayar dari perusahaan, tapi<br>5 bln karna udh gk kerja jadi kan otomatis mati.<br>Jika saya alihkan ke pembayaran pribadi apakah<br>langsung aktif atau nunggu berapa hari baru aktif.",
          "Meskipun meminta rujukannya di hari yg sama",
          "permisi, bagaimana cara saya ingin mengetahui<br>nomor bpjs kesehatan saya melalui medsos twitter<br>ini. bukan aplikais yg lain terimakasih",
          "Kalau untuk periksa mata minus ke RS sdh tdk bisa<br>pakai KIS",
          "selamat pagi, mohon info cara melakukan perubahan<br>alamat domisili di kartu bpjs kesehatan",
          "halo, mau tanya kalau mau liat tagihan BPJS di apk<br>jkn di sebelah mana",
          "Pihak RS menyaikan bahwa ini ketentuan BPJS,hrs<br>diikuti,begitu",
          "Jadi baru bisa bayar tagihan dalam 14 hari kedepan<br>min, begitu",
          "permisi admin. Aku mau cek masa aktif BPJS<br>Kesehatan lewat DM twitter, apakah bisa..",
          "kalau seperti itu apakah bisa diurus untuk<br>dilakukan pembatalan pembayaran dan dialihkan ke<br>cicilan",
          "min saya ngin bertanya, saya sudah melakuan pindah<br>segmen dan melakukan pembayaran, tp knp status<br>masih tidak aktif ya bisa dm untuk screenshot nya",
          "min kalo terapi stroke ditanggung kis gak",
          "How the heck are you giving the same, apparently<br>coded, response",
          "pindah faskes kl klinik FKTP tutup tapi baru saja<br>pindah faskes blm ada 3 bulan bagaimana caranya",
          "Berarti kalo sehari jadi, insyaAllah bisa ya",
          "pandawa itu wa atau ca biasa ya",
          "Kira2 berapa lama untuk jadi aktif lagi min",
          "Nah masalahnya min saya mau konfirmasi untuk<br>penggantian nomor nih.. hubungin kemana ya",
          "Apakah utk usia pensiun ada status lain selain<br>PBPU",
          "maaf mau tanya bpjs bayi baru lahir anak saya<br>sudah di non aktiptidak ditanggung,padahal awal<br>bikin PBI",
          "Kalau sudah pembayaran pertama sebanyak 1 Bulan<br>Apakah bisa langsung bayar 6-12 Bulan",
          "hai min, mau nanya untuk pembayaran pertama bpjs<br>kesehatan bisa langsung 6 bulan tidak ya",
          "persyaratannya apa saja min kalo boleh tau biar<br>bisa dipersiapkan sebelum datang ke kantor, terima<br>kasih infonya min",
          "baik min makasih infonya, kalo bikin untuk<br>peralihan antara kis ke bpjs kesehatan mandiri<br>bisa via aplikasi kah makasih min",
          "min kalo yang punya kartu indonesia sehat, mau<br>punya tagihan bpjs mandiri bisa kah makasih min",
          "min, kalo rontgen itu ditanggung ga sih Adik saya<br>jatuh tadi dari motor terus stangnya kena dada.<br>Apakah bisa",
          "halo .. Apakah BPJS bisa di nonaktifkan Kalau<br>misal nonaktif, apakah bisa aktif sendiri",
          "Halo BPJS .. Saya mau tanya.. terintegrasi<br>keseluruh wilayah Indonesia Dan terintegrasi<br>dengan dukcapil Bapak saya sudah meninggal 2014.<br>Kenapa masi ada tagihan atas nama bapak saya yaa<br>Kan lucu Padahal tahun 2019 saya sudah mengurus.",
          "Apakah terjadi penunggakan iuran atau denda min",
          "min mau tanya dong Ini faskes 1 aku tiba² pindah<br>tuh gimana ya Pas saya berobat ke puskesmas faskes<br>1 saya biasanya, tiba² diinfoin kalau pindah<br>faskes bukan disitu lagi. Waktu saya cek mobile<br>JKN juga satu keluarga malah pindah di klinik yg<br>saya ataupun",
          "Cara ganti alamat bagamana",
          "hai min mau tnya utk BPJS PBI pembuatan hingga<br>aktif memerlukan waktu berapa lama ya",
          "Kalau belum sempat di ganti ada tunggakan tagihan<br>ga",
          "pembayaran premi bpjs bisa perorangan tidak ya",
          "Kalau pindah faskes itu ada masa tunggu nya ga min"
         ],
         "textfont": {
          "color": "rgba(0,0,0,0)"
         },
         "type": "scatter",
         "x": [
          -5.858930587768555,
          -6.0305914878845215,
          -4.787106990814209,
          -5.390314102172852,
          -5.532568454742432,
          -6.931434154510498,
          -5.927614688873291,
          -5.751570701599121,
          -5.251964092254639,
          -5.469272136688232,
          -7.63077449798584,
          -3.830899953842163,
          -5.834549903869629,
          -5.943051815032959,
          -5.852782726287842,
          -5.046391010284424,
          -4.737644672393799,
          -4.104562282562256,
          -5.767998218536377,
          -4.433091163635254,
          -7.41635274887085,
          -4.084163665771484,
          -7.880533695220947,
          -6.838969707489014,
          -5.2885355949401855,
          -6.849325656890869,
          -7.382319927215576,
          -6.349644660949707,
          -5.761528491973877,
          -3.960754632949829,
          -5.908936023712158,
          -4.546006679534912,
          -7.143907070159912,
          -6.176488876342773,
          -6.397984981536865,
          -5.802565574645996,
          -5.862776279449463,
          -5.57464599609375,
          -6.555263996124268,
          -6.116363048553467,
          -7.850681781768799,
          -7.650646209716797,
          -6.350824356079102,
          -3.7533977031707764,
          -7.224424839019775,
          -5.10880184173584,
          -5.97829008102417,
          -4.463000297546387,
          -5.97754430770874,
          -6.245416641235352,
          -6.586056232452393,
          -5.94558048248291,
          -4.6325788497924805
         ],
         "xaxis": "x",
         "y": [
          -3.8536574840545654,
          1.426930546760559,
          -0.8997600674629211,
          -0.023725418373942375,
          1.8142684698104858,
          -1.859861969947815,
          -2.5337252616882324,
          -0.6812059283256531,
          -0.4474696218967438,
          -2.7890069484710693,
          -2.540041923522949,
          -0.8886878490447998,
          0.19172535836696625,
          0.693087100982666,
          1.581581950187683,
          -2.294233798980713,
          -1.1254725456237793,
          -0.7438544631004333,
          -1.4227977991104126,
          -0.3599441349506378,
          -1.697738766670227,
          -1.6756600141525269,
          -1.3765387535095215,
          -2.1080336570739746,
          -2.56998872756958,
          -3.3448798656463623,
          -2.0449275970458984,
          -3.997983455657959,
          1.1032098531723022,
          -1.3124266862869263,
          1.9697941541671753,
          -1.548036813735962,
          -2.9048080444335938,
          -1.990949273109436,
          -1.6319153308868408,
          2.145085334777832,
          -1.0946578979492188,
          -0.921913206577301,
          -3.492631673812866,
          -3.018205165863037,
          -1.4818956851959229,
          -1.961397647857666,
          -2.486366033554077,
          -0.9330036044120789,
          -2.2468178272247314,
          -0.6151027083396912,
          -3.9302871227264404,
          -1.048391342163086,
          2.060938835144043,
          -1.6849024295806885,
          -3.781991720199585,
          -3.0819501876831055,
          -1.61428701877594
         ],
         "yaxis": "y"
        },
        {
         "hovertemplate": "color=cluster 0<br>x=%{x}<br>y=%{y}<br>text=%{text}<extra></extra>",
         "legendgroup": "cluster 0",
         "marker": {
          "color": "#EF553B",
          "size": 8,
          "symbol": "circle"
         },
         "mode": "markers+text",
         "name": "cluster 0",
         "orientation": "v",
         "showlegend": true,
         "text": [
          "cek dm ya",
          "cek dm",
          "min mohon balas dm",
          "hallo min, bales dm ya",
          "cek dm dong min",
          "haloo min, tolong cek dm yaa",
          "min, boleh dicek dm nya",
          "baik min, terima kasih.",
          "cek dm yaa min",
          "baik. Terimakasih banyak kak alfian.",
          "Oohh oke WhatsApp aja ya",
          "min tolong cek dm yaa",
          "Baik, terima kasih atas info nya",
          "halo admin cek dm ya. terima kasihh",
          "cek dm min",
          "Cek dm min"
         ],
         "textfont": {
          "color": "rgba(0,0,0,0)"
         },
         "type": "scatter",
         "x": [
          -2.1683478355407715,
          -1.7462624311447144,
          -3.0596108436584473,
          -2.995682954788208,
          -2.074389696121216,
          -2.7128512859344482,
          -2.490752696990967,
          -3.485459089279175,
          -2.4017434120178223,
          -3.5626211166381836,
          -2.9442873001098633,
          -2.6178972721099854,
          -3.384256362915039,
          -2.9258999824523926,
          -1.8105077743530273,
          -1.8980841636657715
         ],
         "xaxis": "x",
         "y": [
          6.556540012359619,
          6.528801918029785,
          5.908702850341797,
          6.016219615936279,
          6.057554721832275,
          6.22396183013916,
          5.929098129272461,
          6.672521591186523,
          6.3250532150268555,
          6.628020763397217,
          6.394700050354004,
          5.841907501220703,
          6.417130947113037,
          6.59408712387085,
          6.383586406707764,
          6.390968322753906
         ],
         "yaxis": "y"
        }
       ],
       "layout": {
        "legend": {
         "title": {
          "text": "color"
         },
         "tracegroupgap": 0
        },
        "margin": {
         "t": 60
        },
        "showlegend": false,
        "template": {
         "data": {
          "bar": [
           {
            "error_x": {
             "color": "#2a3f5f"
            },
            "error_y": {
             "color": "#2a3f5f"
            },
            "marker": {
             "line": {
              "color": "#E5ECF6",
              "width": 0.5
             },
             "pattern": {
              "fillmode": "overlay",
              "size": 10,
              "solidity": 0.2
             }
            },
            "type": "bar"
           }
          ],
          "barpolar": [
           {
            "marker": {
             "line": {
              "color": "#E5ECF6",
              "width": 0.5
             },
             "pattern": {
              "fillmode": "overlay",
              "size": 10,
              "solidity": 0.2
             }
            },
            "type": "barpolar"
           }
          ],
          "carpet": [
           {
            "aaxis": {
             "endlinecolor": "#2a3f5f",
             "gridcolor": "white",
             "linecolor": "white",
             "minorgridcolor": "white",
             "startlinecolor": "#2a3f5f"
            },
            "baxis": {
             "endlinecolor": "#2a3f5f",
             "gridcolor": "white",
             "linecolor": "white",
             "minorgridcolor": "white",
             "startlinecolor": "#2a3f5f"
            },
            "type": "carpet"
           }
          ],
          "choropleth": [
           {
            "colorbar": {
             "outlinewidth": 0,
             "ticks": ""
            },
            "type": "choropleth"
           }
          ],
          "contour": [
           {
            "colorbar": {
             "outlinewidth": 0,
             "ticks": ""
            },
            "colorscale": [
             [
              0,
              "#0d0887"
             ],
             [
              0.1111111111111111,
              "#46039f"
             ],
             [
              0.2222222222222222,
              "#7201a8"
             ],
             [
              0.3333333333333333,
              "#9c179e"
             ],
             [
              0.4444444444444444,
              "#bd3786"
             ],
             [
              0.5555555555555556,
              "#d8576b"
             ],
             [
              0.6666666666666666,
              "#ed7953"
             ],
             [
              0.7777777777777778,
              "#fb9f3a"
             ],
             [
              0.8888888888888888,
              "#fdca26"
             ],
             [
              1,
              "#f0f921"
             ]
            ],
            "type": "contour"
           }
          ],
          "contourcarpet": [
           {
            "colorbar": {
             "outlinewidth": 0,
             "ticks": ""
            },
            "type": "contourcarpet"
           }
          ],
          "heatmap": [
           {
            "colorbar": {
             "outlinewidth": 0,
             "ticks": ""
            },
            "colorscale": [
             [
              0,
              "#0d0887"
             ],
             [
              0.1111111111111111,
              "#46039f"
             ],
             [
              0.2222222222222222,
              "#7201a8"
             ],
             [
              0.3333333333333333,
              "#9c179e"
             ],
             [
              0.4444444444444444,
              "#bd3786"
             ],
             [
              0.5555555555555556,
              "#d8576b"
             ],
             [
              0.6666666666666666,
              "#ed7953"
             ],
             [
              0.7777777777777778,
              "#fb9f3a"
             ],
             [
              0.8888888888888888,
              "#fdca26"
             ],
             [
              1,
              "#f0f921"
             ]
            ],
            "type": "heatmap"
           }
          ],
          "heatmapgl": [
           {
            "colorbar": {
             "outlinewidth": 0,
             "ticks": ""
            },
            "colorscale": [
             [
              0,
              "#0d0887"
             ],
             [
              0.1111111111111111,
              "#46039f"
             ],
             [
              0.2222222222222222,
              "#7201a8"
             ],
             [
              0.3333333333333333,
              "#9c179e"
             ],
             [
              0.4444444444444444,
              "#bd3786"
             ],
             [
              0.5555555555555556,
              "#d8576b"
             ],
             [
              0.6666666666666666,
              "#ed7953"
             ],
             [
              0.7777777777777778,
              "#fb9f3a"
             ],
             [
              0.8888888888888888,
              "#fdca26"
             ],
             [
              1,
              "#f0f921"
             ]
            ],
            "type": "heatmapgl"
           }
          ],
          "histogram": [
           {
            "marker": {
             "pattern": {
              "fillmode": "overlay",
              "size": 10,
              "solidity": 0.2
             }
            },
            "type": "histogram"
           }
          ],
          "histogram2d": [
           {
            "colorbar": {
             "outlinewidth": 0,
             "ticks": ""
            },
            "colorscale": [
             [
              0,
              "#0d0887"
             ],
             [
              0.1111111111111111,
              "#46039f"
             ],
             [
              0.2222222222222222,
              "#7201a8"
             ],
             [
              0.3333333333333333,
              "#9c179e"
             ],
             [
              0.4444444444444444,
              "#bd3786"
             ],
             [
              0.5555555555555556,
              "#d8576b"
             ],
             [
              0.6666666666666666,
              "#ed7953"
             ],
             [
              0.7777777777777778,
              "#fb9f3a"
             ],
             [
              0.8888888888888888,
              "#fdca26"
             ],
             [
              1,
              "#f0f921"
             ]
            ],
            "type": "histogram2d"
           }
          ],
          "histogram2dcontour": [
           {
            "colorbar": {
             "outlinewidth": 0,
             "ticks": ""
            },
            "colorscale": [
             [
              0,
              "#0d0887"
             ],
             [
              0.1111111111111111,
              "#46039f"
             ],
             [
              0.2222222222222222,
              "#7201a8"
             ],
             [
              0.3333333333333333,
              "#9c179e"
             ],
             [
              0.4444444444444444,
              "#bd3786"
             ],
             [
              0.5555555555555556,
              "#d8576b"
             ],
             [
              0.6666666666666666,
              "#ed7953"
             ],
             [
              0.7777777777777778,
              "#fb9f3a"
             ],
             [
              0.8888888888888888,
              "#fdca26"
             ],
             [
              1,
              "#f0f921"
             ]
            ],
            "type": "histogram2dcontour"
           }
          ],
          "mesh3d": [
           {
            "colorbar": {
             "outlinewidth": 0,
             "ticks": ""
            },
            "type": "mesh3d"
           }
          ],
          "parcoords": [
           {
            "line": {
             "colorbar": {
              "outlinewidth": 0,
              "ticks": ""
             }
            },
            "type": "parcoords"
           }
          ],
          "pie": [
           {
            "automargin": true,
            "type": "pie"
           }
          ],
          "scatter": [
           {
            "fillpattern": {
             "fillmode": "overlay",
             "size": 10,
             "solidity": 0.2
            },
            "type": "scatter"
           }
          ],
          "scatter3d": [
           {
            "line": {
             "colorbar": {
              "outlinewidth": 0,
              "ticks": ""
             }
            },
            "marker": {
             "colorbar": {
              "outlinewidth": 0,
              "ticks": ""
             }
            },
            "type": "scatter3d"
           }
          ],
          "scattercarpet": [
           {
            "marker": {
             "colorbar": {
              "outlinewidth": 0,
              "ticks": ""
             }
            },
            "type": "scattercarpet"
           }
          ],
          "scattergeo": [
           {
            "marker": {
             "colorbar": {
              "outlinewidth": 0,
              "ticks": ""
             }
            },
            "type": "scattergeo"
           }
          ],
          "scattergl": [
           {
            "marker": {
             "colorbar": {
              "outlinewidth": 0,
              "ticks": ""
             }
            },
            "type": "scattergl"
           }
          ],
          "scattermapbox": [
           {
            "marker": {
             "colorbar": {
              "outlinewidth": 0,
              "ticks": ""
             }
            },
            "type": "scattermapbox"
           }
          ],
          "scatterpolar": [
           {
            "marker": {
             "colorbar": {
              "outlinewidth": 0,
              "ticks": ""
             }
            },
            "type": "scatterpolar"
           }
          ],
          "scatterpolargl": [
           {
            "marker": {
             "colorbar": {
              "outlinewidth": 0,
              "ticks": ""
             }
            },
            "type": "scatterpolargl"
           }
          ],
          "scatterternary": [
           {
            "marker": {
             "colorbar": {
              "outlinewidth": 0,
              "ticks": ""
             }
            },
            "type": "scatterternary"
           }
          ],
          "surface": [
           {
            "colorbar": {
             "outlinewidth": 0,
             "ticks": ""
            },
            "colorscale": [
             [
              0,
              "#0d0887"
             ],
             [
              0.1111111111111111,
              "#46039f"
             ],
             [
              0.2222222222222222,
              "#7201a8"
             ],
             [
              0.3333333333333333,
              "#9c179e"
             ],
             [
              0.4444444444444444,
              "#bd3786"
             ],
             [
              0.5555555555555556,
              "#d8576b"
             ],
             [
              0.6666666666666666,
              "#ed7953"
             ],
             [
              0.7777777777777778,
              "#fb9f3a"
             ],
             [
              0.8888888888888888,
              "#fdca26"
             ],
             [
              1,
              "#f0f921"
             ]
            ],
            "type": "surface"
           }
          ],
          "table": [
           {
            "cells": {
             "fill": {
              "color": "#EBF0F8"
             },
             "line": {
              "color": "white"
             }
            },
            "header": {
             "fill": {
              "color": "#C8D4E3"
             },
             "line": {
              "color": "white"
             }
            },
            "type": "table"
           }
          ]
         },
         "layout": {
          "annotationdefaults": {
           "arrowcolor": "#2a3f5f",
           "arrowhead": 0,
           "arrowwidth": 1
          },
          "autotypenumbers": "strict",
          "coloraxis": {
           "colorbar": {
            "outlinewidth": 0,
            "ticks": ""
           }
          },
          "colorscale": {
           "diverging": [
            [
             0,
             "#8e0152"
            ],
            [
             0.1,
             "#c51b7d"
            ],
            [
             0.2,
             "#de77ae"
            ],
            [
             0.3,
             "#f1b6da"
            ],
            [
             0.4,
             "#fde0ef"
            ],
            [
             0.5,
             "#f7f7f7"
            ],
            [
             0.6,
             "#e6f5d0"
            ],
            [
             0.7,
             "#b8e186"
            ],
            [
             0.8,
             "#7fbc41"
            ],
            [
             0.9,
             "#4d9221"
            ],
            [
             1,
             "#276419"
            ]
           ],
           "sequential": [
            [
             0,
             "#0d0887"
            ],
            [
             0.1111111111111111,
             "#46039f"
            ],
            [
             0.2222222222222222,
             "#7201a8"
            ],
            [
             0.3333333333333333,
             "#9c179e"
            ],
            [
             0.4444444444444444,
             "#bd3786"
            ],
            [
             0.5555555555555556,
             "#d8576b"
            ],
            [
             0.6666666666666666,
             "#ed7953"
            ],
            [
             0.7777777777777778,
             "#fb9f3a"
            ],
            [
             0.8888888888888888,
             "#fdca26"
            ],
            [
             1,
             "#f0f921"
            ]
           ],
           "sequentialminus": [
            [
             0,
             "#0d0887"
            ],
            [
             0.1111111111111111,
             "#46039f"
            ],
            [
             0.2222222222222222,
             "#7201a8"
            ],
            [
             0.3333333333333333,
             "#9c179e"
            ],
            [
             0.4444444444444444,
             "#bd3786"
            ],
            [
             0.5555555555555556,
             "#d8576b"
            ],
            [
             0.6666666666666666,
             "#ed7953"
            ],
            [
             0.7777777777777778,
             "#fb9f3a"
            ],
            [
             0.8888888888888888,
             "#fdca26"
            ],
            [
             1,
             "#f0f921"
            ]
           ]
          },
          "colorway": [
           "#636efa",
           "#EF553B",
           "#00cc96",
           "#ab63fa",
           "#FFA15A",
           "#19d3f3",
           "#FF6692",
           "#B6E880",
           "#FF97FF",
           "#FECB52"
          ],
          "font": {
           "color": "#2a3f5f"
          },
          "geo": {
           "bgcolor": "white",
           "lakecolor": "white",
           "landcolor": "#E5ECF6",
           "showlakes": true,
           "showland": true,
           "subunitcolor": "white"
          },
          "hoverlabel": {
           "align": "left"
          },
          "hovermode": "closest",
          "mapbox": {
           "style": "light"
          },
          "paper_bgcolor": "white",
          "plot_bgcolor": "#E5ECF6",
          "polar": {
           "angularaxis": {
            "gridcolor": "white",
            "linecolor": "white",
            "ticks": ""
           },
           "bgcolor": "#E5ECF6",
           "radialaxis": {
            "gridcolor": "white",
            "linecolor": "white",
            "ticks": ""
           }
          },
          "scene": {
           "xaxis": {
            "backgroundcolor": "#E5ECF6",
            "gridcolor": "white",
            "gridwidth": 2,
            "linecolor": "white",
            "showbackground": true,
            "ticks": "",
            "zerolinecolor": "white"
           },
           "yaxis": {
            "backgroundcolor": "#E5ECF6",
            "gridcolor": "white",
            "gridwidth": 2,
            "linecolor": "white",
            "showbackground": true,
            "ticks": "",
            "zerolinecolor": "white"
           },
           "zaxis": {
            "backgroundcolor": "#E5ECF6",
            "gridcolor": "white",
            "gridwidth": 2,
            "linecolor": "white",
            "showbackground": true,
            "ticks": "",
            "zerolinecolor": "white"
           }
          },
          "shapedefaults": {
           "line": {
            "color": "#2a3f5f"
           }
          },
          "ternary": {
           "aaxis": {
            "gridcolor": "white",
            "linecolor": "white",
            "ticks": ""
           },
           "baxis": {
            "gridcolor": "white",
            "linecolor": "white",
            "ticks": ""
           },
           "bgcolor": "#E5ECF6",
           "caxis": {
            "gridcolor": "white",
            "linecolor": "white",
            "ticks": ""
           }
          },
          "title": {
           "x": 0.05
          },
          "xaxis": {
           "automargin": true,
           "gridcolor": "white",
           "linecolor": "white",
           "ticks": "",
           "title": {
            "standoff": 15
           },
           "zerolinecolor": "white",
           "zerolinewidth": 2
          },
          "yaxis": {
           "automargin": true,
           "gridcolor": "white",
           "linecolor": "white",
           "ticks": "",
           "title": {
            "standoff": 15
           },
           "zerolinecolor": "white",
           "zerolinewidth": 2
          }
         }
        },
        "xaxis": {
         "anchor": "y",
         "domain": [
          0,
          1
         ],
         "title": {
          "text": "x"
         }
        },
        "yaxis": {
         "anchor": "x",
         "domain": [
          0,
          1
         ],
         "title": {
          "text": "y"
         }
        }
       }
      }
     },
     "metadata": {},
     "output_type": "display_data"
    }
   ],
   "source": [
    "labels = plot_text(df_neu[\"content\"],embedding_model)"
   ]
  },
  {
   "cell_type": "code",
   "execution_count": 151,
   "metadata": {},
   "outputs": [],
   "source": [
    "labels = clusterer.labels_\n",
    "# set labels to string format cluster_1, cluster_2, etc\n",
    "labels = ['cluster ' + str(i) for i in labels]"
   ]
  },
  {
   "cell_type": "code",
   "execution_count": 152,
   "metadata": {},
   "outputs": [],
   "source": [
    "text = df_neg['content'].str.wrap(50).apply(lambda x: x.replace('\\n', '<br>'))"
   ]
  },
  {
   "cell_type": "code",
   "execution_count": 191,
   "metadata": {},
   "outputs": [
    {
     "ename": "ValueError",
     "evalue": "All arguments should have the same length. The length of argument `color` is 72, whereas the length of  previously-processed arguments ['x', 'y', 'text'] is 26",
     "output_type": "error",
     "traceback": [
      "\u001b[1;31m---------------------------------------------------------------------------\u001b[0m",
      "\u001b[1;31mValueError\u001b[0m                                Traceback (most recent call last)",
      "Cell \u001b[1;32mIn[191], line 1\u001b[0m\n\u001b[1;32m----> 1\u001b[0m fig \u001b[39m=\u001b[39m px\u001b[39m.\u001b[39;49mscatter(x\u001b[39m=\u001b[39;49mumap_data[:,\u001b[39m0\u001b[39;49m], y\u001b[39m=\u001b[39;49mumap_data[:,\u001b[39m1\u001b[39;49m],color \u001b[39m=\u001b[39;49m labels,text \u001b[39m=\u001b[39;49m text)\n\u001b[0;32m      2\u001b[0m \u001b[39m#set text color \u001b[39;00m\n\u001b[0;32m      3\u001b[0m fig\u001b[39m.\u001b[39mupdate_traces(textfont_color\u001b[39m=\u001b[39m\u001b[39m'\u001b[39m\u001b[39mrgba(0,0,0,0)\u001b[39m\u001b[39m'\u001b[39m,marker_size \u001b[39m=\u001b[39m \u001b[39m8\u001b[39m)\n",
      "File \u001b[1;32me:\\Anaconda\\envs\\sentiment_app\\lib\\site-packages\\plotly\\express\\_chart_types.py:66\u001b[0m, in \u001b[0;36mscatter\u001b[1;34m(data_frame, x, y, color, symbol, size, hover_name, hover_data, custom_data, text, facet_row, facet_col, facet_col_wrap, facet_row_spacing, facet_col_spacing, error_x, error_x_minus, error_y, error_y_minus, animation_frame, animation_group, category_orders, labels, orientation, color_discrete_sequence, color_discrete_map, color_continuous_scale, range_color, color_continuous_midpoint, symbol_sequence, symbol_map, opacity, size_max, marginal_x, marginal_y, trendline, trendline_options, trendline_color_override, trendline_scope, log_x, log_y, range_x, range_y, render_mode, title, template, width, height)\u001b[0m\n\u001b[0;32m     12\u001b[0m \u001b[39mdef\u001b[39;00m \u001b[39mscatter\u001b[39m(\n\u001b[0;32m     13\u001b[0m     data_frame\u001b[39m=\u001b[39m\u001b[39mNone\u001b[39;00m,\n\u001b[0;32m     14\u001b[0m     x\u001b[39m=\u001b[39m\u001b[39mNone\u001b[39;00m,\n\u001b[1;32m   (...)\u001b[0m\n\u001b[0;32m     60\u001b[0m     height\u001b[39m=\u001b[39m\u001b[39mNone\u001b[39;00m,\n\u001b[0;32m     61\u001b[0m ) \u001b[39m-\u001b[39m\u001b[39m>\u001b[39m go\u001b[39m.\u001b[39mFigure:\n\u001b[0;32m     62\u001b[0m     \u001b[39m\"\"\"\u001b[39;00m\n\u001b[0;32m     63\u001b[0m \u001b[39m    In a scatter plot, each row of `data_frame` is represented by a symbol\u001b[39;00m\n\u001b[0;32m     64\u001b[0m \u001b[39m    mark in 2D space.\u001b[39;00m\n\u001b[0;32m     65\u001b[0m \u001b[39m    \"\"\"\u001b[39;00m\n\u001b[1;32m---> 66\u001b[0m     \u001b[39mreturn\u001b[39;00m make_figure(args\u001b[39m=\u001b[39;49m\u001b[39mlocals\u001b[39;49m(), constructor\u001b[39m=\u001b[39;49mgo\u001b[39m.\u001b[39;49mScatter)\n",
      "File \u001b[1;32me:\\Anaconda\\envs\\sentiment_app\\lib\\site-packages\\plotly\\express\\_core.py:1990\u001b[0m, in \u001b[0;36mmake_figure\u001b[1;34m(args, constructor, trace_patch, layout_patch)\u001b[0m\n\u001b[0;32m   1987\u001b[0m layout_patch \u001b[39m=\u001b[39m layout_patch \u001b[39mor\u001b[39;00m {}\n\u001b[0;32m   1988\u001b[0m apply_default_cascade(args)\n\u001b[1;32m-> 1990\u001b[0m args \u001b[39m=\u001b[39m build_dataframe(args, constructor)\n\u001b[0;32m   1991\u001b[0m \u001b[39mif\u001b[39;00m constructor \u001b[39min\u001b[39;00m [go\u001b[39m.\u001b[39mTreemap, go\u001b[39m.\u001b[39mSunburst, go\u001b[39m.\u001b[39mIcicle] \u001b[39mand\u001b[39;00m args[\u001b[39m\"\u001b[39m\u001b[39mpath\u001b[39m\u001b[39m\"\u001b[39m] \u001b[39mis\u001b[39;00m \u001b[39mnot\u001b[39;00m \u001b[39mNone\u001b[39;00m:\n\u001b[0;32m   1992\u001b[0m     args \u001b[39m=\u001b[39m process_dataframe_hierarchy(args)\n",
      "File \u001b[1;32me:\\Anaconda\\envs\\sentiment_app\\lib\\site-packages\\plotly\\express\\_core.py:1405\u001b[0m, in \u001b[0;36mbuild_dataframe\u001b[1;34m(args, constructor)\u001b[0m\n\u001b[0;32m   1402\u001b[0m     args[\u001b[39m\"\u001b[39m\u001b[39mcolor\u001b[39m\u001b[39m\"\u001b[39m] \u001b[39m=\u001b[39m \u001b[39mNone\u001b[39;00m\n\u001b[0;32m   1403\u001b[0m \u001b[39m# now that things have been prepped, we do the systematic rewriting of `args`\u001b[39;00m\n\u001b[1;32m-> 1405\u001b[0m df_output, wide_id_vars \u001b[39m=\u001b[39m process_args_into_dataframe(\n\u001b[0;32m   1406\u001b[0m     args, wide_mode, var_name, value_name\n\u001b[0;32m   1407\u001b[0m )\n\u001b[0;32m   1409\u001b[0m \u001b[39m# now that `df_output` exists and `args` contains only references, we complete\u001b[39;00m\n\u001b[0;32m   1410\u001b[0m \u001b[39m# the special-case and wide-mode handling by further rewriting args and/or mutating\u001b[39;00m\n\u001b[0;32m   1411\u001b[0m \u001b[39m# df_output\u001b[39;00m\n\u001b[0;32m   1413\u001b[0m count_name \u001b[39m=\u001b[39m _escape_col_name(df_output, \u001b[39m\"\u001b[39m\u001b[39mcount\u001b[39m\u001b[39m\"\u001b[39m, [var_name, value_name])\n",
      "File \u001b[1;32me:\\Anaconda\\envs\\sentiment_app\\lib\\site-packages\\plotly\\express\\_core.py:1245\u001b[0m, in \u001b[0;36mprocess_args_into_dataframe\u001b[1;34m(args, wide_mode, var_name, value_name)\u001b[0m\n\u001b[0;32m   1242\u001b[0m         col_name \u001b[39m=\u001b[39m _check_name_not_reserved(field, reserved_names)\n\u001b[0;32m   1244\u001b[0m     \u001b[39mif\u001b[39;00m length \u001b[39mand\u001b[39;00m \u001b[39mlen\u001b[39m(argument) \u001b[39m!=\u001b[39m length:\n\u001b[1;32m-> 1245\u001b[0m         \u001b[39mraise\u001b[39;00m \u001b[39mValueError\u001b[39;00m(\n\u001b[0;32m   1246\u001b[0m             \u001b[39m\"\u001b[39m\u001b[39mAll arguments should have the same length. \u001b[39m\u001b[39m\"\u001b[39m\n\u001b[0;32m   1247\u001b[0m             \u001b[39m\"\u001b[39m\u001b[39mThe length of argument `\u001b[39m\u001b[39m%s\u001b[39;00m\u001b[39m` is \u001b[39m\u001b[39m%d\u001b[39;00m\u001b[39m, whereas the \u001b[39m\u001b[39m\"\u001b[39m\n\u001b[0;32m   1248\u001b[0m             \u001b[39m\"\u001b[39m\u001b[39mlength of  previously-processed arguments \u001b[39m\u001b[39m%s\u001b[39;00m\u001b[39m is \u001b[39m\u001b[39m%d\u001b[39;00m\u001b[39m\"\u001b[39m\n\u001b[0;32m   1249\u001b[0m             \u001b[39m%\u001b[39m (field, \u001b[39mlen\u001b[39m(argument), \u001b[39mstr\u001b[39m(\u001b[39mlist\u001b[39m(df_output\u001b[39m.\u001b[39mcolumns)), length)\n\u001b[0;32m   1250\u001b[0m         )\n\u001b[0;32m   1251\u001b[0m     df_output[\u001b[39mstr\u001b[39m(col_name)] \u001b[39m=\u001b[39m to_unindexed_series(argument)\n\u001b[0;32m   1253\u001b[0m \u001b[39m# Finally, update argument with column name now that column exists\u001b[39;00m\n",
      "\u001b[1;31mValueError\u001b[0m: All arguments should have the same length. The length of argument `color` is 72, whereas the length of  previously-processed arguments ['x', 'y', 'text'] is 26"
     ]
    }
   ],
   "source": [
    "fig = px.scatter(x=umap_data[:,0], y=umap_data[:,1],color = labels,text = text)\n",
    "#set text color \n",
    "fig.update_traces(textfont_color='rgba(0,0,0,0)',marker_size = 8)\n",
    "# remove legend\n",
    "fig.update_layout(showlegend=False)\n",
    "# set legend title to cluster\n",
    "# set title text clustering \n",
    "fig.update_layout(title_text='Text Clustering')\n",
    "\n",
    "\n",
    "fig.show()\n"
   ]
  },
  {
   "cell_type": "code",
   "execution_count": 136,
   "metadata": {},
   "outputs": [
    {
     "data": {
      "text/plain": [
       "['cluster_0',\n",
       " 'cluster_3',\n",
       " 'cluster_6',\n",
       " 'cluster_6',\n",
       " 'cluster_1',\n",
       " 'cluster_6',\n",
       " 'cluster_0',\n",
       " 'cluster_2',\n",
       " 'cluster_1',\n",
       " 'cluster_4',\n",
       " 'cluster_4',\n",
       " 'cluster_1',\n",
       " 'cluster_-1',\n",
       " 'cluster_3',\n",
       " 'cluster_0',\n",
       " 'cluster_0',\n",
       " 'cluster_1',\n",
       " 'cluster_0',\n",
       " 'cluster_-1',\n",
       " 'cluster_3',\n",
       " 'cluster_3',\n",
       " 'cluster_2',\n",
       " 'cluster_3',\n",
       " 'cluster_4',\n",
       " 'cluster_5',\n",
       " 'cluster_5']"
      ]
     },
     "execution_count": 136,
     "metadata": {},
     "output_type": "execute_result"
    }
   ],
   "source": [
    "labels"
   ]
  }
 ],
 "metadata": {
  "kernelspec": {
   "display_name": "sentiment_app",
   "language": "python",
   "name": "python3"
  },
  "language_info": {
   "codemirror_mode": {
    "name": "ipython",
    "version": 3
   },
   "file_extension": ".py",
   "mimetype": "text/x-python",
   "name": "python",
   "nbconvert_exporter": "python",
   "pygments_lexer": "ipython3",
   "version": "3.10.8 | packaged by conda-forge | (main, Nov 24 2022, 14:07:00) [MSC v.1916 64 bit (AMD64)]"
  },
  "orig_nbformat": 4,
  "vscode": {
   "interpreter": {
    "hash": "060cb0c314b72233d054837cbf7114a14e911c92ed126864d61595f4324447df"
   }
  }
 },
 "nbformat": 4,
 "nbformat_minor": 2
}
